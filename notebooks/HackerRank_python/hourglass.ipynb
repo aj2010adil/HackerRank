{
 "metadata": {
  "language_info": {
   "codemirror_mode": {
    "name": "ipython",
    "version": 3
   },
   "file_extension": ".py",
   "mimetype": "text/x-python",
   "name": "python",
   "nbconvert_exporter": "python",
   "pygments_lexer": "ipython3",
   "version": "3.8.3"
  },
  "orig_nbformat": 4,
  "kernelspec": {
   "name": "python3",
   "display_name": "Python 3.8.3 64-bit"
  },
  "interpreter": {
   "hash": "5428b240b1467addefd8da96e7305651cd5357883edc98cb4b89bc263f7bc49f"
  }
 },
 "nbformat": 4,
 "nbformat_minor": 2,
 "cells": [
  {
   "source": [
    "[Subarray Division](https://www.hackerrank.com/challenges/the-birthday-bar/problem?utm_campaign=challenge-recommendation&utm_medium=email&utm_source=24-hour-campaign&h_r=next-challenge&h_v=zen)\n",
    "\n",
    "\n"
   ],
   "cell_type": "markdown",
   "metadata": {}
  },
  {
   "cell_type": "code",
   "execution_count": 1,
   "metadata": {},
   "outputs": [
    {
     "output_type": "stream",
     "name": "stdout",
     "text": [
      "\nhourglass no 1\n[1, 2, 3]\n[0, 6, 0]\n[9, 10, 11]\n\nhourglass no 2\n[2, 3, 4]\n[0, 7, 0]\n[10, 11, 12]\n\nhourglass no 3\n[5, 6, 7]\n[0, 10, 0]\n[13, 14, 15]\n\nhourglass no 4\n[6, 7, 8]\n[0, 11, 0]\n[14, 15, 16]\n"
     ]
    }
   ],
   "source": [
    "import math\n",
    "import os\n",
    "import random\n",
    "import re\n",
    "import sys\n",
    "\n",
    "#\n",
    "# Complete the 'hourglassSum' function below.\n",
    "#\n",
    "# The function is expected to return an INTEGER.\n",
    "# The function accepts 2D_INTEGER_ARRAY arr as parameter.\n",
    "#\n",
    "arr = [[1,2,3,4     ] ,\n",
    "       [5,6,7,8     ], \n",
    "       [9,10,11,12  ],\n",
    "       [13,14,15,16]]\n",
    "\n",
    "def hourglass(arr):\n",
    "    k=[]\n",
    "    no=0\n",
    "    for s in range(len(arr)-2):\n",
    "        for d in range( len(arr)-2):\n",
    "            no=no+1\n",
    "            #print(\"row={} and col={}  and {} Hourglass\".format(s,d,no))             \n",
    "            k.append([[arr[s][d],arr[s][d+1],arr[s][d+2]],[0,arr[s+1][d+1],0],[arr[s+2][d],arr[s+2][d]+1,arr[s+2][d+2]]])      \n",
    "            \n",
    "    return k\n",
    "def printHourglass(arr):\n",
    "    no=0\n",
    "    for k in range(len(arr)):\n",
    "        no=no+1\n",
    "        print()\n",
    "        print(\"hourglass no {}\".format(no))\n",
    "        for j in range(len(arr[k])-1):\n",
    "            print(hourglass(arr)[k][j])      \n",
    "        \n",
    "    \n",
    "    \n",
    "def hourglasssum(arr):\n",
    "    sum = []\n",
    "    for i in range(len(arr)-2):\n",
    "        for j in range(len(arr)-2):\n",
    "            #print(arr[i][j], end=\" \")\n",
    "            sum.append(arr[i][j]+arr[i][j+1]+arr[i][j+2]+arr[i+1][j+1]+arr[i+2][j]+arr[i+2][j+1]+arr[i+2][j+2])\n",
    "    print(max(sum))\n",
    "\n",
    "\n",
    "printHourglass(arr)\n",
    "\n",
    "\n"
   ]
  },
  {
   "cell_type": "code",
   "execution_count": null,
   "metadata": {},
   "outputs": [],
   "source": []
  }
 ]
}