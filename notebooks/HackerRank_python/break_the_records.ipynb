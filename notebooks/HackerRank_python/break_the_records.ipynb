{
 "cells": [
  {
   "source": [
    "# [Break The Records Problem](https://www.hackerrank.com/challenges/breaking-best-and-worst-records/problem?utm_campaign=challenge-recommendation&utm_medium=email&utm_source=24-hour-campaign)"
   ],
   "cell_type": "code",
   "metadata": {},
   "execution_count": null,
   "outputs": []
  },
  {
   "source": [
    "Problem: Maria plays college basketball and wants to go pro. Each season she maintains a record of her play. She tabulates the number of times she breaks her season record for most points and least points in a game. Points scored in the first game establish her record for the season, and she begins counting from there."
   ],
   "cell_type": "markdown",
   "metadata": {}
  },
  {
   "source": [
    "# Function Description\n",
    "\n",
    "Complete the breakingRecords function in the editor below.\n",
    "\n",
    "breakingRecords has the following parameter(s):\n",
    "\n",
    "int scores[n]: points scored per game\n",
    "# Returns\n",
    "\n",
    "int[2]: An array with the numbers of times she broke her records. Index  is for breaking most points records, and index  is for breaking least points records.\n",
    "\n",
    "# Input Format\n",
    "\n",
    "The first line contains an integer , the number of games.\n",
    "The second line contains  space-separated integers describing the respective values of .\n",
    "## 9\n",
    "## 10 5 20 20 4 5 2 25 1\n"
   ],
   "cell_type": "markdown",
   "metadata": {}
  },
  {
   "cell_type": "code",
   "execution_count": 23,
   "metadata": {},
   "outputs": [],
   "source": [
    "n=9\n",
    "scores=[10,5,20,20,4,5,2,25,1]\n",
    "result=[0,0]"
   ]
  },
  {
   "cell_type": "code",
   "execution_count": 24,
   "metadata": {},
   "outputs": [
    {
     "output_type": "stream",
     "name": "stdout",
     "text": [
      "[2, 4]\n"
     ]
    }
   ],
   "source": [
    "max_score=scores[0]\n",
    "min_score=scores[0]\n",
    "for i in range(len(scores)):\n",
    "    if min_score>scores[i]:\n",
    "        result[1]=result[1]+1\n",
    "        min_score=scores[i]\n",
    "        #print(min_score)\n",
    "    elif max_score<scores[i]:\n",
    "        result[0]=result[0]+1\n",
    "        max_score=scores[i]\n",
    "        #print(max_score)\n",
    "print(result)\n"
   ]
  },
  {
   "source": [
    "\n",
    "import math\n",
    "import os\n",
    "import random\n",
    "import re\n",
    "import sys\n",
    "\n",
    "#\n",
    "# Complete the 'breakingRecords' function below.\n",
    "#\n",
    "# The function is expected to return an INTEGER_ARRAY.\n",
    "# The function accepts INTEGER_ARRAY scores as parameter.\n",
    "#\n",
    "\n",
    "def breakingRecords(scores):\n",
    "    # Write your code here\n",
    "    result=[0,0]\n",
    "    max_score=scores[0]\n",
    "    min_score=scores[0]\n",
    "    for i in range(len(scores)):\n",
    "        if min_score>scores[i]:\n",
    "            result[1]=result[1]+1\n",
    "            min_score=scores[i]\n",
    "            #print(min_score)\n",
    "        elif max_score<scores[i]:\n",
    "            result[0]=result[0]+1\n",
    "            max_score=scores[i]\n",
    "            #print(max_score)\n",
    "    return result\n",
    "\n",
    "\n",
    "\n",
    "\n",
    "\n",
    "\n"
   ],
   "cell_type": "code",
   "metadata": {},
   "execution_count": 26,
   "outputs": []
  }
 ],
 "metadata": {
  "kernelspec": {
   "name": "python3",
   "display_name": "Python 3.8.3 64-bit"
  },
  "language_info": {
   "codemirror_mode": {
    "name": "ipython",
    "version": 3
   },
   "file_extension": ".py",
   "mimetype": "text/x-python",
   "name": "python",
   "nbconvert_exporter": "python",
   "pygments_lexer": "ipython3",
   "version": "3.8.3"
  },
  "interpreter": {
   "hash": "5428b240b1467addefd8da96e7305651cd5357883edc98cb4b89bc263f7bc49f"
  }
 },
 "nbformat": 4,
 "nbformat_minor": 2
}