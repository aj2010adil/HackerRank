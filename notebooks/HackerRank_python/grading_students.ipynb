{
 "cells": [
  {
   "source": [
    "# [Grading Students](https://www.hackerrank.com/challenges/grading/problem)\n",
    "\n"
   ],
   "cell_type": "markdown",
   "metadata": {}
  },
  {
   "source": [
    "#  Problem: sam wants to round of the grades of students with certain conditions\n",
    "##   1- round off by next number which should be the multiple of 5 and difference should be less than 3 with the former\n",
    "##   2- Round off should not for grade less than 40 .\n",
    "##   3- round off should not if diff is greater than 3\n",
    "\n"
   ],
   "cell_type": "markdown",
   "metadata": {}
  },
  {
   "source": [
    "# Function Description\n",
    "\n",
    "Complete the function gradingStudents in the editor below.\n",
    "\n",
    "gradingStudents has the following parameter(s):\n",
    "\n",
    "int grades[n]: the grades before rounding\n",
    "Returns\n",
    "\n",
    "int[n]: the grades after rounding as appropriate\n",
    "Input Format\n",
    "\n",
    "The first line contains a single integer, , the number of students.\n",
    "Each line  of the  subsequent lines contains a single integer, ."
   ],
   "cell_type": "markdown",
   "metadata": {}
  },
  {
   "cell_type": "code",
   "execution_count": 20,
   "metadata": {},
   "outputs": [],
   "source": []
  },
  {
   "cell_type": "code",
   "execution_count": 22,
   "metadata": {},
   "outputs": [
    {
     "output_type": "stream",
     "name": "stdout",
     "text": [
      "[46, 45, 47, 50, 50, 85, 85, 38, 66]\n"
     ]
    }
   ],
   "source": [
    "grade=[46,45,47,49,50,83,85,38,66]\n",
    "result=[]\n",
    "for i in range(len(grade)):\n",
    "    if grade[i]%5==0 and grade[i]>=40:\n",
    "        result.append(grade[i])\n",
    "    elif (grade[i]+1)%5==0 and grade[i]>=40:\n",
    "        result.append(grade[i]+1)\n",
    "    elif  (grade[i]+2)%5==0 and grade[i]>=40:\n",
    "        result.append(grade[i]+2)\n",
    "    else :\n",
    "        result.append(grade[i])\n",
    "print(result)\n"
   ]
  },
  {
   "source": [
    "\n",
    "import math\n",
    "import os\n",
    "import random\n",
    "import re\n",
    "import sys\n",
    "\n",
    "#\n",
    "# Complete the 'breakingRecords' function below.\n",
    "#\n",
    "# The function is expected to return an INTEGER_ARRAY.\n",
    "# The function accepts INTEGER_ARRAY scores as parameter.\n",
    "#\n",
    "grade=[6,3,73,67,38]\n",
    "def gradingStudents(grade):\n",
    "    # Write your code here\n",
    "    result=[]\n",
    "    for i in range(len(grade)):\n",
    "        if grade[i]%5==0 and grade[i]>=40:\n",
    "            result.append(grade[i])\n",
    "        elif (grade[i]+1)%5==0 and (grade[i]+1)>=40:\n",
    "            result.append(grade[i]+1)\n",
    "        elif  (grade[i]+2)%5==0 and (grade[i]+2)>=40:\n",
    "            result.append(grade[i]+2)\n",
    "        else :\n",
    "            result.append(grade[i]) \n",
    "    return result\n",
    "\n",
    "gradingStudents(grade)\n",
    "\n",
    "\n",
    "\n",
    "\n"
   ],
   "cell_type": "code",
   "metadata": {},
   "execution_count": 26,
   "outputs": [
    {
     "output_type": "execute_result",
     "data": {
      "text/plain": [
       "[6, 3, 75, 67, 40]"
      ]
     },
     "metadata": {},
     "execution_count": 26
    }
   ]
  },
  {
   "cell_type": "code",
   "execution_count": null,
   "metadata": {},
   "outputs": [],
   "source": []
  }
 ],
 "metadata": {
  "kernelspec": {
   "name": "python3",
   "display_name": "Python 3.8.3 64-bit"
  },
  "language_info": {
   "codemirror_mode": {
    "name": "ipython",
    "version": 3
   },
   "file_extension": ".py",
   "mimetype": "text/x-python",
   "name": "python",
   "nbconvert_exporter": "python",
   "pygments_lexer": "ipython3",
   "version": "3.8.3"
  },
  "interpreter": {
   "hash": "5428b240b1467addefd8da96e7305651cd5357883edc98cb4b89bc263f7bc49f"
  }
 },
 "nbformat": 4,
 "nbformat_minor": 2
}