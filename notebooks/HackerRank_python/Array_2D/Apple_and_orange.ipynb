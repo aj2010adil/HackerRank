{
 "cells": [
  {
   "source": [
    "# [Apple and Orange ](https://www.hackerrank.com/challenges/apple-and-orange/problem?h_r=next-challenge&h_v=zen)\n",
    "\n"
   ],
   "cell_type": "code",
   "metadata": {},
   "execution_count": 1,
   "outputs": []
  },
  {
   "source": [
    "#  Problem: sam wants to determine the number of fruits thats lands on Sam's land\n",
    "Given the value of  for  apples and  oranges, determine how many apples and oranges will fall on Sam's house (i.e., in the inclusive range )?\n",
    "\n"
   ],
   "cell_type": "code",
   "metadata": {},
   "execution_count": null,
   "outputs": []
  },
  {
   "source": [
    "Function Description\n",
    "\n",
    "Complete the countApplesAndOranges function in the editor below. It should print the number of apples and oranges that land on Sam's house, each on a separate line.\n",
    "\n",
    "countApplesAndOranges has the following parameter(s):\n",
    "\n",
    "s: integer, starting point of Sam's house location.\n",
    "t: integer, ending location of Sam's house location.\n",
    "a: integer, location of the Apple tree.\n",
    "b: integer, location of the Orange tree.\n",
    "apples: integer array, distances at which each apple falls from the tree.\n",
    "oranges: integer array, distances at which each orange falls from the tree.\n",
    "Input Format\n",
    "\n",
    "The first line contains two space-separated integers denoting the respective values of  and .\n",
    "The second line contains two space-separated integers denoting the respective values of  and .\n",
    "The third line contains two space-separated integers denoting the respective values of  and .\n",
    "The fourth line contains  space-separated integers denoting the respective distances that each apple falls from point .\n",
    "The fifth line contains  space-separated integers denoting the respective distances that each orange falls from point .\n",
    "\n",
    "Constraints\n",
    "\n",
    "Output Format\n",
    "\n",
    "Print two integers on two different lines:\n",
    "\n",
    "The first integer: the number of apples that fall on Sam's house.\n",
    "The second integer: the number of oranges that fall on Sam's house."
   ],
   "cell_type": "markdown",
   "metadata": {}
  },
  {
   "cell_type": "code",
   "execution_count": 20,
   "metadata": {},
   "outputs": [],
   "source": [
    "apples=[2,3,4,5]\n",
    "oranges=[2,3,4,-5]"
   ]
  },
  {
   "cell_type": "code",
   "execution_count": 22,
   "metadata": {},
   "outputs": [
    {
     "output_type": "stream",
     "name": "stdout",
     "text": [
      "[46, 45, 47, 50, 50, 85, 85, 38, 66]\n"
     ]
    }
   ],
   "source": [
    "result=[]\n",
    "for i in range(len(grade)):\n",
    "    if grade[i]%5==0 and grade[i]>=40:\n",
    "        result.append(grade[i])\n",
    "    elif (grade[i]+1)%5==0 and grade[i]>=40:\n",
    "        result.append(grade[i]+1)\n",
    "    elif  (grade[i]+2)%5==0 and grade[i]>=40:\n",
    "        result.append(grade[i]+2)\n",
    "    else :\n",
    "        result.append(grade[i])\n",
    "print(result)\n"
   ]
  },
  {
   "source": [
    "\n",
    "import math\n",
    "import os\n",
    "import random\n",
    "import re\n",
    "import sys\n",
    "\n",
    "# The function accepts following parameters:\n",
    "#  1. INTEGER s\n",
    "#  2. INTEGER t\n",
    "#  3. INTEGER a\n",
    "#  4. INTEGER b\n",
    "#  5. INTEGER_ARRAY apples\n",
    "#  6. INTEGER_ARRAY oranges\n",
    "s=7\n",
    "t=11\n",
    "a=5\n",
    "b=15\n",
    "apples=[-2,2,1]\n",
    "oranges=[5,-6]\n",
    "\n",
    "def countApplesAndOranges(s, t, a, b, apples, oranges):\n",
    "    # Write your code here\n",
    "    result=[0,0]\n",
    "    for i in apples:\n",
    "        if i in range((s-a),(t-a)+1):\n",
    "            result[0]=result[0]+1\n",
    "    for i in oranges:\n",
    "      if i in range((t-b),(s-b)-1,-1):\n",
    "          #print(i)\n",
    "          result[1]=result[1]+1\n",
    "  \n",
    "    print(result[0])\n",
    "    print(result[1])\n",
    "\n",
    "\n",
    "countApplesAndOranges(s, t, a, b, apples, oranges)\n",
    "\n",
    "\n",
    "\n",
    "\n"
   ],
   "cell_type": "code",
   "metadata": {},
   "execution_count": 38,
   "outputs": [
    {
     "output_type": "stream",
     "name": "stdout",
     "text": [
      "1\n1\n"
     ]
    }
   ]
  },
  {
   "cell_type": "code",
   "execution_count": null,
   "metadata": {},
   "outputs": [],
   "source": []
  }
 ],
 "metadata": {
  "kernelspec": {
   "name": "python3",
   "display_name": "Python 3.8.3 64-bit"
  },
  "language_info": {
   "codemirror_mode": {
    "name": "ipython",
    "version": 3
   },
   "file_extension": ".py",
   "mimetype": "text/x-python",
   "name": "python",
   "nbconvert_exporter": "python",
   "pygments_lexer": "ipython3",
   "version": "3.8.3"
  },
  "interpreter": {
   "hash": "5428b240b1467addefd8da96e7305651cd5357883edc98cb4b89bc263f7bc49f"
  }
 },
 "nbformat": 4,
 "nbformat_minor": 2
}